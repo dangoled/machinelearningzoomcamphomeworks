{
 "cells": [
  {
   "cell_type": "markdown",
   "id": "b628686d-ebbb-4173-8098-6d3b9ea89716",
   "metadata": {},
   "source": [
    "## Cohort 20234 Homework 4 - Angole Daniel\n",
    "\n",
    "> Note: sometimes your answer doesn't match one of  \n",
    "> the options exactly. That's fine.  \n",
    "> Select the option that's closest to your solution."
   ]
  },
  {
   "cell_type": "markdown",
   "id": "186e7cda-1098-489f-be2c-1d8ed9f8cd57",
   "metadata": {},
   "source": [
    "### Dataset\n",
    "\n",
    "In this homework, we will use the Bank Marketing dataset. Download it from [here](https://archive.ics.uci.edu/static/public/222/bank+marketing.zip).\n",
    "\n",
    "You can do it with `wget`:\n",
    "\n",
    "```bash\n",
    "wget https://archive.ics.uci.edu/static/public/222/bank+marketing.zip\n",
    "unzip bank+marketing.zip \n",
    "unzip bank.zip\n",
    "```\n",
    "\n",
    "We need `bank-full.csv`.\n",
    "\n",
    "In this dataset the target variable is `y` variable - has the client subscribed a term deposit or not. "
   ]
  },
  {
   "cell_type": "markdown",
   "id": "a3fea50f",
   "metadata": {},
   "source": [
    "### Dataset preparation\n",
    "\n",
    "For the rest of the homework, you'll need to use only these columns:\n",
    "\n",
    "* `'age'`,\n",
    "* `'job'`,\n",
    "* `'marital'`,\n",
    "* `'education'`,\n",
    "* `'balance'`,\n",
    "* `'housing'`,\n",
    "* `'contact'`,\n",
    "* `'day'`,\n",
    "* `'month'`,\n",
    "* `'duration'`,\n",
    "* `'campaign'`,\n",
    "* `'pdays'`,\n",
    "* `'previous'`,\n",
    "* `'poutcome'`,\n",
    "* `'y'`\n",
    "\n",
    "Split the data into 3 parts: train/validation/test with 60%/20%/20% distribution. Use `train_test_split` function for that with `random_state=1`"
   ]
  },
  {
   "cell_type": "code",
   "execution_count": 1,
   "id": "2141f938-fd1c-4aba-b6bb-b7fe4757419d",
   "metadata": {},
   "outputs": [],
   "source": [
    "# Import required modules.\n",
    "import pandas as pd\n",
    "import numpy as np\n",
    "\n",
    "import matplotlib.pyplot as plt\n",
    "import seaborn as sns\n",
    "\n",
    "from sklearn.model_selection import train_test_split\n",
    "\n",
    "from sklearn.metrics import roc_auc_score\n",
    "from sklearn.metrics import roc_curve\n",
    "\n",
    "from sklearn.feature_extraction import DictVectorizer\n",
    "from sklearn.linear_model import LogisticRegression\n",
    "from sklearn.model_selection import KFold\n",
    "\n",
    "%matplotlib inline"
   ]
  },
  {
   "cell_type": "code",
   "execution_count": 2,
   "id": "4c9ec85c-b57d-4ca3-b5e7-706215826d8b",
   "metadata": {},
   "outputs": [],
   "source": [
    "# Load the dataset.\n",
    "df_in = pd.read_csv('../data/bank-full.csv', sep=';')"
   ]
  },
  {
   "cell_type": "code",
   "execution_count": 3,
   "id": "4791494b-b664-4311-8213-944ad57cb14d",
   "metadata": {},
   "outputs": [
    {
     "data": {
      "text/html": [
       "<div>\n",
       "<style scoped>\n",
       "    .dataframe tbody tr th:only-of-type {\n",
       "        vertical-align: middle;\n",
       "    }\n",
       "\n",
       "    .dataframe tbody tr th {\n",
       "        vertical-align: top;\n",
       "    }\n",
       "\n",
       "    .dataframe thead th {\n",
       "        text-align: right;\n",
       "    }\n",
       "</style>\n",
       "<table border=\"1\" class=\"dataframe\">\n",
       "  <thead>\n",
       "    <tr style=\"text-align: right;\">\n",
       "      <th></th>\n",
       "      <th>age</th>\n",
       "      <th>job</th>\n",
       "      <th>marital</th>\n",
       "      <th>education</th>\n",
       "      <th>default</th>\n",
       "      <th>balance</th>\n",
       "      <th>housing</th>\n",
       "      <th>loan</th>\n",
       "      <th>contact</th>\n",
       "      <th>day</th>\n",
       "      <th>month</th>\n",
       "      <th>duration</th>\n",
       "      <th>campaign</th>\n",
       "      <th>pdays</th>\n",
       "      <th>previous</th>\n",
       "      <th>poutcome</th>\n",
       "      <th>y</th>\n",
       "    </tr>\n",
       "  </thead>\n",
       "  <tbody>\n",
       "    <tr>\n",
       "      <th>0</th>\n",
       "      <td>58</td>\n",
       "      <td>management</td>\n",
       "      <td>married</td>\n",
       "      <td>tertiary</td>\n",
       "      <td>no</td>\n",
       "      <td>2143</td>\n",
       "      <td>yes</td>\n",
       "      <td>no</td>\n",
       "      <td>unknown</td>\n",
       "      <td>5</td>\n",
       "      <td>may</td>\n",
       "      <td>261</td>\n",
       "      <td>1</td>\n",
       "      <td>-1</td>\n",
       "      <td>0</td>\n",
       "      <td>unknown</td>\n",
       "      <td>no</td>\n",
       "    </tr>\n",
       "    <tr>\n",
       "      <th>1</th>\n",
       "      <td>44</td>\n",
       "      <td>technician</td>\n",
       "      <td>single</td>\n",
       "      <td>secondary</td>\n",
       "      <td>no</td>\n",
       "      <td>29</td>\n",
       "      <td>yes</td>\n",
       "      <td>no</td>\n",
       "      <td>unknown</td>\n",
       "      <td>5</td>\n",
       "      <td>may</td>\n",
       "      <td>151</td>\n",
       "      <td>1</td>\n",
       "      <td>-1</td>\n",
       "      <td>0</td>\n",
       "      <td>unknown</td>\n",
       "      <td>no</td>\n",
       "    </tr>\n",
       "    <tr>\n",
       "      <th>2</th>\n",
       "      <td>33</td>\n",
       "      <td>entrepreneur</td>\n",
       "      <td>married</td>\n",
       "      <td>secondary</td>\n",
       "      <td>no</td>\n",
       "      <td>2</td>\n",
       "      <td>yes</td>\n",
       "      <td>yes</td>\n",
       "      <td>unknown</td>\n",
       "      <td>5</td>\n",
       "      <td>may</td>\n",
       "      <td>76</td>\n",
       "      <td>1</td>\n",
       "      <td>-1</td>\n",
       "      <td>0</td>\n",
       "      <td>unknown</td>\n",
       "      <td>no</td>\n",
       "    </tr>\n",
       "    <tr>\n",
       "      <th>3</th>\n",
       "      <td>47</td>\n",
       "      <td>blue-collar</td>\n",
       "      <td>married</td>\n",
       "      <td>unknown</td>\n",
       "      <td>no</td>\n",
       "      <td>1506</td>\n",
       "      <td>yes</td>\n",
       "      <td>no</td>\n",
       "      <td>unknown</td>\n",
       "      <td>5</td>\n",
       "      <td>may</td>\n",
       "      <td>92</td>\n",
       "      <td>1</td>\n",
       "      <td>-1</td>\n",
       "      <td>0</td>\n",
       "      <td>unknown</td>\n",
       "      <td>no</td>\n",
       "    </tr>\n",
       "    <tr>\n",
       "      <th>4</th>\n",
       "      <td>33</td>\n",
       "      <td>unknown</td>\n",
       "      <td>single</td>\n",
       "      <td>unknown</td>\n",
       "      <td>no</td>\n",
       "      <td>1</td>\n",
       "      <td>no</td>\n",
       "      <td>no</td>\n",
       "      <td>unknown</td>\n",
       "      <td>5</td>\n",
       "      <td>may</td>\n",
       "      <td>198</td>\n",
       "      <td>1</td>\n",
       "      <td>-1</td>\n",
       "      <td>0</td>\n",
       "      <td>unknown</td>\n",
       "      <td>no</td>\n",
       "    </tr>\n",
       "  </tbody>\n",
       "</table>\n",
       "</div>"
      ],
      "text/plain": [
       "   age           job  marital  education default  balance housing loan  \\\n",
       "0   58    management  married   tertiary      no     2143     yes   no   \n",
       "1   44    technician   single  secondary      no       29     yes   no   \n",
       "2   33  entrepreneur  married  secondary      no        2     yes  yes   \n",
       "3   47   blue-collar  married    unknown      no     1506     yes   no   \n",
       "4   33       unknown   single    unknown      no        1      no   no   \n",
       "\n",
       "   contact  day month  duration  campaign  pdays  previous poutcome   y  \n",
       "0  unknown    5   may       261         1     -1         0  unknown  no  \n",
       "1  unknown    5   may       151         1     -1         0  unknown  no  \n",
       "2  unknown    5   may        76         1     -1         0  unknown  no  \n",
       "3  unknown    5   may        92         1     -1         0  unknown  no  \n",
       "4  unknown    5   may       198         1     -1         0  unknown  no  "
      ]
     },
     "execution_count": 3,
     "metadata": {},
     "output_type": "execute_result"
    }
   ],
   "source": [
    "# Show the head of df_in.\n",
    "df_in.head()"
   ]
  },
  {
   "cell_type": "code",
   "execution_count": 4,
   "id": "084bedb8-40ac-4768-82d8-297801e37d0a",
   "metadata": {},
   "outputs": [
    {
     "data": {
      "text/plain": [
       "(45211, 17)"
      ]
     },
     "execution_count": 4,
     "metadata": {},
     "output_type": "execute_result"
    }
   ],
   "source": [
    "# Show the shape of df_in.\n",
    "df_in.shape"
   ]
  },
  {
   "cell_type": "code",
   "execution_count": 5,
   "id": "11163c7a-2108-465e-8461-48a65d3cc9ad",
   "metadata": {},
   "outputs": [],
   "source": [
    "# Subset the dataset.\n",
    "col_use = ['age', 'job', 'marital', 'education', 'balance', 'housing', 'contact', 'day', \n",
    "             'month', 'duration', 'campaign', 'pdays', 'previous', 'poutcome', 'y']"
   ]
  },
  {
   "cell_type": "code",
   "execution_count": 6,
   "id": "0137a44a-dd0d-469a-a4fc-f663ae7693c6",
   "metadata": {},
   "outputs": [],
   "source": [
    "# Initialize numerical and categorical variables.\n",
    "numerical = [\"age\", \"balance\", \"day\", \"duration\", \"campaign\", \"pdays\", \"previous\"]\n",
    "categorical = ['job', 'marital', 'education', 'housing', 'contact', 'month', 'poutcome']"
   ]
  },
  {
   "cell_type": "code",
   "execution_count": 58,
   "id": "245a2e2e-0644-4f46-9661-00ac4dd7e727",
   "metadata": {},
   "outputs": [],
   "source": [
    "# Replace the values `yes`/`no` with `1`/`0` in column y.\n",
    "df = df_in.copy()\n",
    "df = df[col_use]\n",
    "df.loc[:, 'y'] = df['y'].map({'yes': '1', 'no': '0'})\n",
    "\n",
    "# Split the dataset.\n",
    "df_full_train, df_test = train_test_split(df, test_size=0.2, random_state=1)\n",
    "df_train, df_val = train_test_split(df_full_train, test_size=0.25, random_state=1)\n",
    "\n",
    "df_train = df_train.reset_index(drop=True)\n",
    "df_val = df_val.reset_index(drop=True)\n",
    "df_test = df_test.reset_index(drop=True)\n",
    "\n",
    "y_train = df_train.y.values\n",
    "y_val = df_val.y.values\n",
    "y_test = df_test.y.values\n",
    "\n",
    "del df_train['y']\n",
    "del df_val['y']\n",
    "del df_test['y']"
   ]
  },
  {
   "cell_type": "markdown",
   "id": "d5756899-8e89-4a06-8d90-139f66df8743",
   "metadata": {},
   "source": [
    "### Question 1: ROC AUC feature importance\n",
    "\n",
    "ROC AUC could also be used to evaluate feature importance of numerical variables. \n",
    "\n",
    "Let's do that\n",
    "\n",
    "* For each numerical variable, use it as score (aka prediction) and compute the AUC with the `y` variable as ground truth.\n",
    "* Use the training dataset for that\n",
    "\n",
    "\n",
    "If your AUC is < 0.5, invert this variable by putting \"-\" in front\n",
    "\n",
    "(e.g. `-df_train['engine_hp']`)\n",
    "\n",
    "AUC can go below 0.5 if the variable is negatively correlated with the target variable. You can change the direction of the correlation by negating this variable - then negative correlation becomes positive.\n",
    "\n",
    "Which numerical variable (among the following 4) has the highest AUC?\n",
    "\n",
    "- `balance`\n",
    "- `day`\n",
    "- `duration`\n",
    "- `previous`"
   ]
  },
  {
   "cell_type": "code",
   "execution_count": 9,
   "id": "3b27c7f4",
   "metadata": {},
   "outputs": [
    {
     "name": "stdout",
     "output_type": "stream",
     "text": [
      "      age, 0.512\n",
      "  balance, 0.589\n",
      "      day, 0.526\n",
      " duration, 0.815\n",
      " campaign, 0.571\n",
      "    pdays, 0.590\n",
      " previous, 0.599\n"
     ]
    }
   ],
   "source": [
    "# Calculate roc_auc_score for numerical.\n",
    "for c in numerical:\n",
    "  auc = roc_auc_score(y_train, df_train[c])\n",
    "  if auc < 0.5:\n",
    "    auc = roc_auc_score(y_train, -df_train[c])\n",
    "  print('%9s, %.3f' % (c, auc))"
   ]
  },
  {
   "cell_type": "markdown",
   "id": "f43701dd-d825-485e-9d88-f4e6e7e9380f",
   "metadata": {},
   "source": [
    "Question 01 Answer: duration"
   ]
  },
  {
   "cell_type": "markdown",
   "id": "5a9e0b79-c0e3-4cd4-a75d-fd9adb32102d",
   "metadata": {},
   "source": [
    "### Question 2: Training the model\n",
    "\n",
    "Apply one-hot-encoding using `DictVectorizer` and train the logistic regression with these parameters:\n",
    "\n",
    "```python\n",
    "LogisticRegression(solver='liblinear', C=1.0, max_iter=1000)\n",
    "```\n",
    "\n",
    "What's the AUC of this model on the validation dataset? (round to 3 digits)\n",
    "\n",
    "- 0.69\n",
    "- 0.79\n",
    "- 0.89\n",
    "- 0.99"
   ]
  },
  {
   "cell_type": "code",
   "execution_count": 13,
   "id": "b7c2a18c-226b-46b0-8571-e76ef35ef731",
   "metadata": {},
   "outputs": [
    {
     "name": "stdout",
     "output_type": "stream",
     "text": [
      "0.9\n"
     ]
    }
   ],
   "source": [
    "# Train a logistic regression model.\n",
    "columns = numerical + categorical\n",
    "\n",
    "dv = DictVectorizer(sparse=False)\n",
    "train_dicts = df_train[columns].to_dict(orient='records')\n",
    "val_dicts = df_val[columns].to_dict(orient='records')\n",
    "\n",
    "X_train = dv.fit_transform(train_dicts)\n",
    "X_val = dv.transform(val_dicts)\n",
    "\n",
    "model = LogisticRegression(solver='liblinear', C=1.0, max_iter=1000)\n",
    "model.fit(X_train, y_train)\n",
    "\n",
    "y_pred = model.predict_proba(X_val)[:, 1]\n",
    "the_score = roc_auc_score(y_val, y_pred)\n",
    "\n",
    "print(round(the_score, 2))"
   ]
  },
  {
   "cell_type": "markdown",
   "id": "d72ec941-4c70-42bd-8166-fb06bfebddef",
   "metadata": {},
   "source": [
    "Question 02 Answer: 0.89"
   ]
  },
  {
   "cell_type": "markdown",
   "id": "9282d740-7692-46db-8941-135a227df8b4",
   "metadata": {},
   "source": [
    "### Question 3: Precision and Recall\n",
    "\n",
    "Now let's compute precision and recall for our model.\n",
    "\n",
    "* Evaluate the model on all thresholds from 0.0 to 1.0 with step 0.01\n",
    "* For each threshold, compute precision and recall\n",
    "* Plot them\n",
    "\n",
    "At which threshold precision and recall curves intersect?\n",
    "\n",
    "* 0.265\n",
    "* 0.465\n",
    "* 0.665\n",
    "* 0.865"
   ]
  },
  {
   "cell_type": "code",
   "execution_count": 14,
   "id": "2d43c198",
   "metadata": {},
   "outputs": [
    {
     "name": "stdout",
     "output_type": "stream",
     "text": [
      "0.66\n"
     ]
    }
   ],
   "source": [
    "# Inspect the bin ROC AUC SCORE.\n",
    "y_pred_bin = model.predict(X_val)\n",
    "bin_score = roc_auc_score(y_val, y_pred_bin)\n",
    "print(round(bin_score, 2))"
   ]
  },
  {
   "cell_type": "code",
   "execution_count": 54,
   "id": "94582fc0-0bd6-4acd-8870-e47901958180",
   "metadata": {},
   "outputs": [],
   "source": [
    "# Replace the values `yes`/`no` with 1/0 in column y.\n",
    "df = df_in.copy()\n",
    "df = df[col_use]\n",
    "df.loc[:, 'y'] = df['y'].map({'yes': 1, 'no': 0})\n",
    "\n",
    "# Split the dataset.\n",
    "df_full_train, df_test = train_test_split(df, test_size=0.2, random_state=1)\n",
    "df_train, df_val = train_test_split(df_full_train, test_size=0.25, random_state=1)\n",
    "\n",
    "df_train = df_train.reset_index(drop=True)\n",
    "df_val = df_val.reset_index(drop=True)\n",
    "df_test = df_test.reset_index(drop=True)\n",
    "\n",
    "y_train = df_train.y.values\n",
    "y_val = df_val.y.values\n",
    "y_test = df_test.y.values\n",
    "\n",
    "del df_train['y']\n",
    "del df_val['y']\n",
    "del df_test['y']"
   ]
  },
  {
   "cell_type": "code",
   "execution_count": 34,
   "id": "08523d2f",
   "metadata": {},
   "outputs": [
    {
     "data": {
      "text/html": [
       "<div>\n",
       "<style scoped>\n",
       "    .dataframe tbody tr th:only-of-type {\n",
       "        vertical-align: middle;\n",
       "    }\n",
       "\n",
       "    .dataframe tbody tr th {\n",
       "        vertical-align: top;\n",
       "    }\n",
       "\n",
       "    .dataframe thead th {\n",
       "        text-align: right;\n",
       "    }\n",
       "</style>\n",
       "<table border=\"1\" class=\"dataframe\">\n",
       "  <thead>\n",
       "    <tr style=\"text-align: right;\">\n",
       "      <th></th>\n",
       "      <th>threshold</th>\n",
       "      <th>tp</th>\n",
       "      <th>fp</th>\n",
       "      <th>fn</th>\n",
       "      <th>tn</th>\n",
       "    </tr>\n",
       "  </thead>\n",
       "  <tbody>\n",
       "    <tr>\n",
       "      <th>0</th>\n",
       "      <td>0.0</td>\n",
       "      <td>1098</td>\n",
       "      <td>7944</td>\n",
       "      <td>0</td>\n",
       "      <td>0</td>\n",
       "    </tr>\n",
       "    <tr>\n",
       "      <th>10</th>\n",
       "      <td>0.1</td>\n",
       "      <td>926</td>\n",
       "      <td>1493</td>\n",
       "      <td>172</td>\n",
       "      <td>6451</td>\n",
       "    </tr>\n",
       "    <tr>\n",
       "      <th>20</th>\n",
       "      <td>0.2</td>\n",
       "      <td>712</td>\n",
       "      <td>692</td>\n",
       "      <td>386</td>\n",
       "      <td>7252</td>\n",
       "    </tr>\n",
       "    <tr>\n",
       "      <th>30</th>\n",
       "      <td>0.3</td>\n",
       "      <td>565</td>\n",
       "      <td>407</td>\n",
       "      <td>533</td>\n",
       "      <td>7537</td>\n",
       "    </tr>\n",
       "    <tr>\n",
       "      <th>40</th>\n",
       "      <td>0.4</td>\n",
       "      <td>463</td>\n",
       "      <td>272</td>\n",
       "      <td>635</td>\n",
       "      <td>7672</td>\n",
       "    </tr>\n",
       "    <tr>\n",
       "      <th>50</th>\n",
       "      <td>0.5</td>\n",
       "      <td>373</td>\n",
       "      <td>191</td>\n",
       "      <td>725</td>\n",
       "      <td>7753</td>\n",
       "    </tr>\n",
       "    <tr>\n",
       "      <th>60</th>\n",
       "      <td>0.6</td>\n",
       "      <td>291</td>\n",
       "      <td>137</td>\n",
       "      <td>807</td>\n",
       "      <td>7807</td>\n",
       "    </tr>\n",
       "    <tr>\n",
       "      <th>70</th>\n",
       "      <td>0.7</td>\n",
       "      <td>225</td>\n",
       "      <td>101</td>\n",
       "      <td>873</td>\n",
       "      <td>7843</td>\n",
       "    </tr>\n",
       "    <tr>\n",
       "      <th>80</th>\n",
       "      <td>0.8</td>\n",
       "      <td>148</td>\n",
       "      <td>68</td>\n",
       "      <td>950</td>\n",
       "      <td>7876</td>\n",
       "    </tr>\n",
       "    <tr>\n",
       "      <th>90</th>\n",
       "      <td>0.9</td>\n",
       "      <td>76</td>\n",
       "      <td>28</td>\n",
       "      <td>1022</td>\n",
       "      <td>7916</td>\n",
       "    </tr>\n",
       "    <tr>\n",
       "      <th>100</th>\n",
       "      <td>1.0</td>\n",
       "      <td>0</td>\n",
       "      <td>0</td>\n",
       "      <td>1098</td>\n",
       "      <td>7944</td>\n",
       "    </tr>\n",
       "  </tbody>\n",
       "</table>\n",
       "</div>"
      ],
      "text/plain": [
       "     threshold    tp    fp    fn    tn\n",
       "0          0.0  1098  7944     0     0\n",
       "10         0.1   926  1493   172  6451\n",
       "20         0.2   712   692   386  7252\n",
       "30         0.3   565   407   533  7537\n",
       "40         0.4   463   272   635  7672\n",
       "50         0.5   373   191   725  7753\n",
       "60         0.6   291   137   807  7807\n",
       "70         0.7   225   101   873  7843\n",
       "80         0.8   148    68   950  7876\n",
       "90         0.9    76    28  1022  7916\n",
       "100        1.0     0     0  1098  7944"
      ]
     },
     "execution_count": 34,
     "metadata": {},
     "output_type": "execute_result"
    }
   ],
   "source": [
    "# Use - Replace the values `yes`/`no` with 1/0 in column y.\n",
    "# Create the confusion matrix.\n",
    "df_scores = confusion_matrix_dataframe(y_val, y_pred)\n",
    "df_scores[::10]"
   ]
  },
  {
   "cell_type": "code",
   "execution_count": 35,
   "id": "eb6a82ba",
   "metadata": {},
   "outputs": [],
   "source": [
    "# Add the columns.\n",
    "df_scores['p'] = df_scores.tp / (df_scores.tp + df_scores.fp)\n",
    "df_scores['r'] = df_scores.tp / (df_scores.tp + df_scores.fn)"
   ]
  },
  {
   "cell_type": "code",
   "execution_count": 36,
   "id": "3093be5f",
   "metadata": {},
   "outputs": [
    {
     "data": {
      "image/png": "[encoded data removed]",
      "text/plain": [
       "<Figure size 640x480 with 1 Axes>"
      ]
     },
     "metadata": {},
     "output_type": "display_data"
    }
   ],
   "source": [
    "#Implement the curves.\n",
    "plt.plot(df_scores.threshold, df_scores.p, label='precision')\n",
    "plt.plot(df_scores.threshold, df_scores.r, label='recall')\n",
    "\n",
    "plt.legend()\n",
    "plt.show()"
   ]
  },
  {
   "cell_type": "markdown",
   "id": "291f77a6-6f01-43d5-80bc-b3e2619b1456",
   "metadata": {},
   "source": [
    "Question 03 Answer: 0.265"
   ]
  },
  {
   "cell_type": "markdown",
   "id": "74a3b489-51e0-4f11-93da-3570243a3aee",
   "metadata": {},
   "source": [
    "### Question 4: F1 score\n",
    "\n",
    "Precision and recall are conflicting - when one grows, the other goes down. That's why they are often combined into the F1 score - a metrics that takes into account both\n",
    "\n",
    "This is the formula for computing F1:\n",
    "\n",
    "$$F_1 = 2 \\cdot \\cfrac{P \\cdot R}{P + R}$$\n",
    "\n",
    "Where $P$ is precision and $R$ is recall.\n",
    "\n",
    "Let's compute F1 for all thresholds from 0.0 to 1.0 with increment 0.01\n",
    "\n",
    "At which threshold F1 is maximal?\n",
    "\n",
    "- 0.02\n",
    "- 0.22\n",
    "- 0.42\n",
    "- 0.62"
   ]
  },
  {
   "cell_type": "code",
   "execution_count": 37,
   "id": "9b7e0456",
   "metadata": {},
   "outputs": [],
   "source": [
    "# Get the F1 scores.\n",
    "df_scores['f1'] = 2 * df_scores.p * df_scores.r / (df_scores.p + df_scores.r)"
   ]
  },
  {
   "cell_type": "code",
   "execution_count": 38,
   "id": "c2810f62",
   "metadata": {},
   "outputs": [
    {
     "data": {
      "image/png": "[encoded data removed]",
      "text/plain": [
       "<Figure size 640x480 with 1 Axes>"
      ]
     },
     "metadata": {},
     "output_type": "display_data"
    }
   ],
   "source": [
    "# Plot the F1 scores.\n",
    "plt.plot(df_scores.threshold, df_scores.f1)\n",
    "plt.xticks(np.linspace(0, 1, 11))\n",
    "plt.show()"
   ]
  },
  {
   "cell_type": "markdown",
   "id": "52bf22ad-46c6-4f5a-ad68-14772955b423",
   "metadata": {},
   "source": [
    "Question 04 Answer: 0.22"
   ]
  },
  {
   "cell_type": "markdown",
   "id": "dcaa1df5-add7-4173-ad03-c0b2fa988ddb",
   "metadata": {},
   "source": [
    "### Question 5: 5-Fold CV\n",
    "\n",
    "\n",
    "Use the `KFold` class from Scikit-Learn to evaluate our model on 5 different folds:\n",
    "\n",
    "```\n",
    "KFold(n_splits=5, shuffle=True, random_state=1)\n",
    "```\n",
    "\n",
    "* Iterate over different folds of `df_full_train`\n",
    "* Split the data into train and validation\n",
    "* Train the model on train with these parameters: `LogisticRegression(solver='liblinear', C=1.0, max_iter=1000)`\n",
    "* Use AUC to evaluate the model on validation\n",
    "\n",
    "How large is standard deviation of the scores across different folds?\n",
    "\n",
    "- 0.0001\n",
    "- 0.006\n",
    "- 0.06\n",
    "- 0.26"
   ]
  },
  {
   "cell_type": "code",
   "execution_count": 64,
   "id": "905bcc79",
   "metadata": {},
   "outputs": [],
   "source": [
    "# Define function to train scores.\n",
    "def train(df_train, y_train, C=1.0):\n",
    "    dicts = df_train[columns].to_dict(orient='records')\n",
    "\n",
    "    dv = DictVectorizer(sparse=False)\n",
    "    X_train = dv.fit_transform(dicts)\n",
    "\n",
    "    model = LogisticRegression(solver='liblinear', C=C, max_iter=1000)\n",
    "    model.fit(X_train, y_train)\n",
    "\n",
    "    return dv, model"
   ]
  },
  {
   "cell_type": "code",
   "execution_count": 65,
   "id": "a562f6a7-d36d-4a1e-a370-ddb17a7e3be1",
   "metadata": {},
   "outputs": [],
   "source": [
    "# Define function to predict scores.\n",
    "def predict(df, dv, model):\n",
    "    dicts = df[columns].to_dict(orient='records')\n",
    "\n",
    "    X = dv.transform(dicts)\n",
    "    y_pred = model.predict_proba(X)[:, 1]\n",
    "\n",
    "    return y_pred"
   ]
  },
  {
   "cell_type": "code",
   "execution_count": 66,
   "id": "54f44ebb-1c3d-44a3-9b93-033d7c8bcc19",
   "metadata": {},
   "outputs": [
    {
     "name": "stdout",
     "output_type": "stream",
     "text": [
      "0.906 +- 0.005\n"
     ]
    }
   ],
   "source": [
    "# Initiate a KFOLD CROSS VALIDATION.\n",
    "scores = []\n",
    "\n",
    "kfold = KFold(n_splits=5, shuffle=True, random_state=1)\n",
    "\n",
    "for train_idx, val_idx in kfold.split(df_full_train):\n",
    "    df_train = df_full_train.iloc[train_idx]\n",
    "    df_val = df_full_train.iloc[val_idx]\n",
    "\n",
    "    y_train = df_train.y\n",
    "    y_val = df_val.y\n",
    "\n",
    "    dv, model = train(df_train, y_train, C=1.0)\n",
    "    y_pred = predict(df_val, dv, model)\n",
    "\n",
    "    auc = roc_auc_score(y_val, y_pred)\n",
    "    scores.append(auc)\n",
    "\n",
    "print('%.3f +- %.3f' % (np.mean(scores), np.std(scores)))"
   ]
  },
  {
   "cell_type": "markdown",
   "id": "434b8ed0-f0bb-46e9-b775-f3855de832a2",
   "metadata": {},
   "source": [
    "Question 05 Answer: 0.006"
   ]
  },
  {
   "cell_type": "markdown",
   "id": "699cba76-851d-4f71-a2c8-da1a130fa5d4",
   "metadata": {},
   "source": [
    "### Question 6: Hyperparameter Tuning\n",
    "\n",
    "Now let's use 5-Fold cross-validation to find the best parameter `C`\n",
    "\n",
    "* Iterate over the following `C` values: `[0.000001, 0.001, 1]`\n",
    "* Initialize `KFold` with the same parameters as previously\n",
    "* Use these parameters for the model: `LogisticRegression(solver='liblinear', C=C, max_iter=1000)`\n",
    "* Compute the mean score as well as the std (round the mean and std to 3 decimal digits)\n",
    "\n",
    "Which `C` leads to the best mean score?\n",
    "\n",
    "- 0.000001\n",
    "- 0.001\n",
    "- 1\n",
    "\n",
    "If you have ties, select the score with the lowest std. If you still have ties, select the smallest `C`."
   ]
  },
  {
   "cell_type": "code",
   "execution_count": 67,
   "id": "36d16d5c",
   "metadata": {},
   "outputs": [
    {
     "name": "stdout",
     "output_type": "stream",
     "text": [
      "C=1e-06, 0.701 +- 0.009\n",
      "C=0.001, 0.861 +- 0.007\n",
      "C=   1, 0.906 +- 0.005\n"
     ]
    }
   ],
   "source": [
    "# Initiate a KFOLD CROSS VALIDATION with various C.\n",
    "kfold = KFold(n_splits=5, shuffle=True, random_state=1)\n",
    "\n",
    "for C in [0.000001, 0.001, 1]:\n",
    "    scores = []\n",
    "\n",
    "    for train_idx, val_idx in kfold.split(df_full_train):\n",
    "        df_train = df_full_train.iloc[train_idx]\n",
    "        df_val = df_full_train.iloc[val_idx]\n",
    "\n",
    "        y_train = df_train.y\n",
    "        y_val = df_val.y\n",
    "\n",
    "        dv, model = train(df_train, y_train, C=C)\n",
    "        y_pred = predict(df_val, dv, model)\n",
    "\n",
    "        auc = roc_auc_score(y_val, y_pred)\n",
    "        scores.append(auc)\n",
    "\n",
    "    print('C=%4s, %.3f +- %.3f' % (C, np.mean(scores), np.std(scores)))"
   ]
  },
  {
   "cell_type": "markdown",
   "id": "d765d852-d452-4d65-9148-fb731780a680",
   "metadata": {},
   "source": [
    "Question 06 Answer: 1"
   ]
  }
 ],
 "metadata": {
  "kernelspec": {
   "display_name": "Python 3 (ipykernel)",
   "language": "python",
   "name": "python3"
  },
  "language_info": {
   "codemirror_mode": {
    "name": "ipython",
    "version": 3
   },
   "file_extension": ".py",
   "mimetype": "text/x-python",
   "name": "python",
   "nbconvert_exporter": "python",
   "pygments_lexer": "ipython3",
   "version": "3.11.9"
  }
 },
 "nbformat": 4,
 "nbformat_minor": 5
}
